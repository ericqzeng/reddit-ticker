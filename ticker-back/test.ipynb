{
 "cells": [
  {
   "cell_type": "code",
   "execution_count": 33,
   "metadata": {},
   "outputs": [],
   "source": [
    "import sys\n",
    "import praw\n",
    "import uuid\n",
    "import json\n",
    "import datetime\n",
    "\n",
    "reddit = praw.Reddit(\"yeet\", user_agent=\"Price Ticker\")"
   ]
  },
  {
   "cell_type": "code",
   "execution_count": 35,
   "metadata": {
    "tags": [
     "outputPrepend",
     "outputPrepend",
     "outputPrepend",
     "outputPrepend",
     "outputPrepend",
     "outputPrepend",
     "outputPrepend",
     "outputPrepend",
     "outputPrepend",
     "outputPrepend",
     "outputPrepend",
     "outputPrepend",
     "outputPrepend",
     "outputPrepend",
     "outputPrepend",
     "outputPrepend",
     "outputPrepend",
     "outputPrepend",
     "outputPrepend",
     "outputPrepend",
     "outputPrepend"
    ]
   },
   "outputs": [
    {
     "output_type": "stream",
     "name": "stdout",
     "text": "Selling 2020-05-19 20:27:09: [US-CA][H] Savage65 Green (A-stock) [W] Paypal, Hotswap board trades\nBuying 2020-05-19 20:25:57: [US-NY] [H] PayPal, hopes and dreams [W] Tada68 PCBs, plates and high profile alu cases\nSelling 2020-05-19 20:25:13: [US-MI] [H] Black, Lefty Candybar Premium with Mint plate [W] Paypal\nBuying 2020-05-19 20:17:41: [US-KS] [H] Paypal [W] Maxkey SA Berserk Keycaps Novelty & Non-Standard Kit.\nBuying 2020-05-19 20:17:16: [US-CA] [H] PayPal, Venmo, Local Cash [W] New Original Mizu Tuila (Darker blue mat)\nSelling 2020-05-19 20:13:24: [US-NC] [H] Polycarbonate HHKB Leaf60 [W] PayPal\nSold 2020-05-19 20:08:55: [US-FL] [H] Blue WKL Polaris build [W] Paypal\nTrading 2020-05-19 20:07:29: [US-TX][H] Poly KFE, Artisans [W] ETF Taro, Copper Bull v2, Cuprum Keypora, GMK Copper Watcher, Trades, Paypal\nTrading 2020-05-19 20:03:31: [US-VA] [H] SA Bliss Base Kit, Salvun zzz Artisan, Keyforge Lilac Fever Orochi, Black Savage65 Unbuilt, Keycult Tenkeyless solderable PCB, Halo Trues/Clears, Invyr Stems and Halo stems, BKE Ultralight Domes [W] PayPal, Trades\nTrading 2020-05-19 20:03:05: [US-CA] [H] Rama M60-A Seq 1 Kuro w/ Internal Weight [W] Rama Koyu\nBuying 2020-05-19 19:59:37: [US-CA] [H] PayPal [W] SA Vilebloom 1.75U Shift/Non-Standard/Novelties\nBuying 2020-05-19 19:56:23: [US-OH][H] Lividity Gramps, gold Polaris weight, PayPal [W] classic click rgb popsi, bull v2, black Polaris weight, PayPal\nSelling 2020-05-19 19:56:13: [US-CA] [H] OLKB Acute, Tokyo60 R1, Alpine Winter, GMK Skidolcha, Kumo, Alps64 PCB, Cherry Silent Blacks [W] Paypal\nSelling 2020-05-19 19:42:42: [US-CA] [H] ALPS SALE: Alps SKCM Amber/Blue/White, SGI Granite Alps, SMK Monterey Blue, Alps SKCL Lock, Variety of Alps Keycaps & Stabilizers, ADB Cable [W] Paypal/Venmo, Norbaforce 87U Case, Teensy 2.0, XW60V2 PCBs\nSelling 2020-05-19 19:42:16: [KR] [H] GMK Minimal + Rama Artisan Bronze Color, Rama Koyu Race [W] Paypal\nSelling 2020-05-19 19:35:33: [EU-UK][H] GMK Merlin Novelties [W] PayPal\nBuying 2020-05-19 19:30:54: [US-OK] [H] Paypal [W] 70 Alpacas\nSelling 2020-05-19 19:29:27: [US-MA] [H] 70x Alpaca, 60x Zealios r2 67g - Lubed + Firmed [W] Paypal\nBuying 2020-05-19 19:21:02: [CA-QC] [H] Paypal [W] 6x2U Durock purple stabilizers\nBuying 2020-05-19 19:17:20: [US-IL] [H] PayPal [W] Alice PCB/Clone\nBuying 2020-05-19 19:07:40: [US-TX][H] Paypal [W] KBD19x Gray / Silver / Black w/ Linears\nBuying 2020-05-19 19:07:09: [US-NY] [H] Paypal [W] Keyboard kits\nSelling 2020-05-19 18:59:37: [US-VA] [H] GMK Minimal [W] Paypal\nBuying 2020-05-19 18:57:16: [US-CA] [H] Paypal [W] MT3 dev/tty base kit\nSelling 2020-05-19 18:55:37: [US-OH] [H] Black Tofu 60% with SA Pulse keycaps [W] PayPal\nBuying 2020-05-19 18:50:17: [US-NY][H] PayPal [W] GMK Oblivion V2 Base, Jumbo Coiled Aviator USB-C Cable\nBuying 2020-05-19 18:50:03: [US-CA] [H] Paypal [W] English/Hangul alpha caps\nSelling 2020-05-19 18:41:56: [CA-MB] [H] 62x Alpaca Switches, 70x Kailh Heavy Berry Switches, 100x Retooled Cherry Black Switches [W] PayPal\nBuying 2020-05-19 18:38:52: [US-TX] [H] PayPal [W] Any Aluminum keyboard\nSelling 2020-05-19 18:37:54: [EU-UK] [H] GMK Night runner - base [W] Paypal\nSelling 2020-05-19 18:34:26: [US-MD][H] Artisans, unholy pandas, PBT DSA Keycaps for gk61/64 or similar layouts [W] PayPal\nBuying 2020-05-19 18:26:52: [US-IN] [H]PAYPAL [W] GMK Vaporwave base w/wo novelties\nBuying 2020-05-19 18:24:01: [US-IL] [H] Paypal [W] Mid to high end hotswappable keyboard\nSelling 2020-05-19 18:20:20: [US-NY] [H] Realforce 101, Topre Blank Grab bag, Leopold fc660c grey mods w/ 2 hangul mods, ec9009 grab bag [W] Paypal\nBuying 2020-05-19 18:16:50: [US-CA] [H] PayPal, Venmo [W] GMK Mizu base + novelties\nSold 2020-05-19 18:16:46: [US-MT][H] GMK Pulse base, Gateron ink blacks [W] PayPal\nBuying 2020-05-19 18:15:52: [CA-ON][H] PayPal, local cash, e-transfer [W] 65% hotswap boards (preferably black or acrylic)\nBuying 2020-05-19 18:13:17: [US-CA] [H] PayPal [W] GREY/SILVER Tofu65/60 or something similar, WoB GMK set or something similar\nTrading 2020-05-19 18:03:30: [US-CA] [H] Artisans [W] Trades/Paypal\nBuying 2020-05-19 18:02:37: [US-TX] [H] Paypal [W] Home Sweet Home Deskmat and 70g Springs\nBuying 2020-05-19 17:52:57: [US-CA] [H] Paypal [W] Novatouch/Novatouch sliders\nBuying 2020-05-19 17:46:13: [US-GA] [H] PayPal [W] TGR Jane v2 CE WKL\nBuying 2020-05-19 17:45:55: [US-NJ] [H] Paypal [W] Space65 Carbon Fiber Plate\nInterest Check 2020-05-19 17:45:42: [IC] Mysterium PCB Kits & Duck Octagon FR4 plate\nBuying 2020-05-19 17:37:34: [US-MO] [H] PayPal [W] Topre short-throw\nSelling 2020-05-19 17:30:15: [US-CA] [H] HHKB JP HiPro, HASU, Purple Sliders,Stock & BKE Domes, Anti-Vibration mat [W] PayPal\nBuying 2020-05-19 17:27:30: [CA-ON] [H] Paypal [W] GMK Vaporwave Base, Novelties or JTK Hyperfuse\nBuying 2020-05-19 17:27:05: [US-WI] [H] PayPal [W] KeyMouse Alpha or Track\nBuying 2020-05-19 17:15:46: [US-PA] [H] Paypal [W] Drop Team Trees Keycaps, 16 pin PCB mounted USB C connectors, through hole sandwich keyboard kits\nBuying 2020-05-19 17:12:53: [US-CA] [H] Paypal [W] Metal HHKB Sticker Gold with Red Accent\nArtisan 2020-05-19 17:12:14: [Artisan] Glow in the dark UFO caps. Available now and ready to ship.\nSelling 2020-05-19 17:10:06: [US-CA] [H] Artisans (Menloes, cheap Murrays, F13 Eggs, VLC Smeg) [W] Paypal, Fri 13th Holoskull & Tortured Artist, Menloes, Dental Plans, Moonblanks\nSelling 2020-05-19 17:09:45: [US-OH][H] Custom Coiled USB C Aviator Cables [W] PayPal\nBuying 2020-05-19 16:56:57: [US-FL] [H] Paypal [W] Fidget Spinner Artisan, Other Artisans\nBuying 2020-05-19 16:51:29: [US-CA] [H] PayPal [W] 90x Lubed Gateron Yellow Switches\nBuying 2020-05-19 16:49:56: [US-TX] [H] Paypal [W] GMK Bento Deskmat\nSelling 2020-05-19 16:47:44: [US-PA] [H] 70x H1 Switches [W] Paypal\nSelling 2020-05-19 16:45:21: [CA-QC] [H] Artisans [W] Paypal\nSelling 2020-05-19 16:38:55: [US-TX][H] Jelly Key(Celestial Sphere, Jingle key) [W] Paypal, Legendary Castles Skypiea\nBuying 2020-05-19 16:32:49: [US-NJ] [H] Paypal [W] DZ60RGB v2 + Silver Tofu 60 or kbd 5° + Brass/Aluminum plate + 70x Zealios/Zilents v2 65g\nTrading 2020-05-19 16:31:30: [US-OH] [H] GEN.S blue monitor Artisan [W] GEN.S gray/black monitor Artisan\nInterest Check 2020-05-19 16:31:08: [IC] Danny Phantom - Linear Blue Switch (Durock)\nArtisan 2020-05-19 16:30:47: [Artisan] Jade'Or Raffle - Backward Caps\nBuying 2020-05-19 16:27:14: [EU-BE][H]Paypal[W]SA Green screen\nSelling 2020-05-19 16:24:21: [US-CA] [H] Jelly Keys [W] PayPal\nBuying 2020-05-19 16:24:15: [US-CA][H]Satisfaction75, Paypal [W] KeyCult No2 Red/SS, Volcano660 E-White, GMK 9009\nSelling 2020-05-19 16:12:12: [US-NJ][H] GMK Striker base kit [W] Paypal\nInterest Check 2020-05-19 16:08:52: [IC] Aluminium case for Discipline & Mysterium\nSold 2020-05-19 16:07:33: [US-CA] [H] 64x Alpaca switches [W] Paypal\nBuying 2020-05-19 16:05:45: [US-CA] [H] Paypal [W] 1.75 u shift or blank keycap white, pink or light pink or Artisan.\nBuying 2020-05-19 15:59:58: [US-IL] [H] Paypal [W] KBD67v2 MKII (Grey/White)\nSelling 2020-05-19 15:59:03: [EU-PT] [H] Realforce 23U Numpad, Custom Mini-USB cable [W] PayPal, BBV2\nBuying 2020-05-19 15:57:34: [US-CA] [H] PayPal [W] x8 C3 Tangerine V2 67g\nBuying 2020-05-19 15:53:34: [US-CA][H] PayPal [W] SA Bliss\nBuying 2020-05-19 15:47:09: [US-NC] [H] Paypal [W] White Anne Pro 2 w/ Brown Switches\nBuying 2020-05-19 15:44:30: [US-IL] [H] PayPal [W] RAMA x Keycult Brass Artisan\nSelling 2020-05-19 15:43:42: [EU-UK] [H] Anne Pro 2 Black, Kailh Browns [W] Paypal\nSelling 2020-05-19 15:39:17: [US-CA] [H] GMK Modern Dolch, GMK Pulse, JTK Artic, JTK Hyperfuse, DSA Mystery [W] PayPal\nBuying 2020-05-19 15:38:41: [US-NJ] [H] PayPal [W] hineybush H87A PCB (or similar PCB with QMK support)\nSelling 2020-05-19 15:37:59: [US-TX] [H] FC660C (low noise model; factory silenced; BKE Light; lubed) [W] Paypal\nBuying 2020-05-19 15:34:34: [US-VA] [H] PayPal [W] TOFU60 Aluminum Black, White or Gold.\nBuying 2020-05-19 15:34:24: [US-MD] [H] Paypal [W] 60% 2u left Shift Keycap Sets\nSelling 2020-05-19 15:29:57: [CA-ON][H] Stock White HHKB Pro 2 [W]Paypal\nSelling 2020-05-19 15:26:34: [EU-LV][H] ANSI OG Cherry dye-subs/ Cherry MY 3000 [W]PayPal; Revolut\nBuying 2020-05-19 15:18:17: [US-VA] [H] Paypal [W] 6u off-center spacebar + GMK Red Samurai individual keycaps\nSelling 2020-05-19 15:11:11: [CA-QC][H]SA Magic City, SA Symbiosis, XDA Canvas R2, HHKB TOFU, Pearl40, RAMA M-60A, Austere [W] PayPal\nBuying 2020-05-19 15:11:02: [US-MA][H] Paypal [W] GMK JAMON\nSold 2020-05-19 15:08:25: [US-VA] [H] KBDFans PBT Chalk-A Keycaps, Blank OEM 61-Key PBT White Keycaps [W] Paypal, AT2020 mic (non usb), AT2035\nSelling 2020-05-19 15:07:51: [US-AZ] [H]Let's split v2 kits [W] Paypal!\nBuying 2020-05-19 15:06:18: [US-NC] [H] Paypal, Local Cash. [W] 40% Kit, 60% Kit, New.\nSelling 2020-05-19 15:05:42: [US-IL] [H] GMK Peaches n Cream Base, Space, Desk Mat, Artisan, JellyKey Zen Pond Chrome, Dragon of Eden [W] Paypal\nSelling 2020-05-19 15:04:49: [EU-DE] [H] Nixies, G80 1000HAD, Silitek Sk0002, 300 platemounted vints, NOS Qume Board, MXM8 Switches [W] PayPal\nBuying 2020-05-19 15:04:11: [EU-UK] [H] PayPal [W] GMK set\nPurchased 2020-05-19 15:02:24: [US-CA][H] Verified PayPal [W] Gmk 8008 Obscure kit\nBuying 2020-05-19 15:01:17: [US-CA] [H] PayPal [W] TKLs\nSelling 2020-05-19 15:00:41: [US-MA] [H] Keycap sets: Tai-Hao, ALT, CTRL [W] Paypal\nBuying 2020-05-19 15:00:30: [AE] [H] Paypal & or Leaf60pc [W] Key65 ewhite, pink logo\nBuying 2020-05-19 14:54:28: [US-HI][H]PayPal[W]Think6.5 PC hotswap\nBuying 2020-05-19 14:51:13: [EU-UK] [H] paypal/bank trans [W] looking for linear switches\nBuying 2020-05-19 14:50:48: [US-NY] [H] Paypal [W] KBD8X MKii Black Full Kit + TKL kits/builds\n"
    }
   ],
   "source": [
    "# contact API to put w/ query options\n",
    "\n",
    "known = {} #storage of pulled posts\n",
    "\n",
    "# for submission in reddit.subreddit(\"mechmarket\").search('flair:selling', sort = 'new', time_filter = 'day'):\n",
    "#     known[submission.id] = submission\n",
    "\n",
    "# TODO: rerun with higher limits\n",
    "for submission in reddit.subreddit(\"mechmarket\").new(limit=100):\n",
    "    known[submission.id] = submission\n",
    "    print(submission.link_flair_text + ' ' + str(datetime.datetime.fromtimestamp(submission.created_utc)) + \": \" + submission.title)\n",
    "#     print(submission.selftext)"
   ]
  },
  {
   "cell_type": "code",
   "execution_count": null,
   "metadata": {},
   "outputs": [],
   "source": [
    "[print(s.title,  flush=True, end='') for id,s in known.items()]"
   ]
  },
  {
   "cell_type": "code",
   "execution_count": null,
   "metadata": {},
   "outputs": [],
   "source": [
    "# uuid.uuid4()"
   ]
  }
 ],
 "metadata": {
  "kernelspec": {
   "display_name": "Python 3.7.6 64-bit",
   "language": "python",
   "name": "python37664bit07431e3c240740a88a5fe5e11e764ffa"
  },
  "language_info": {
   "codemirror_mode": {
    "name": "ipython",
    "version": 3
   },
   "file_extension": ".py",
   "mimetype": "text/x-python",
   "name": "python",
   "nbconvert_exporter": "python",
   "pygments_lexer": "ipython3",
   "version": "3.7.6-final"
  }
 },
 "nbformat": 4,
 "nbformat_minor": 2
}